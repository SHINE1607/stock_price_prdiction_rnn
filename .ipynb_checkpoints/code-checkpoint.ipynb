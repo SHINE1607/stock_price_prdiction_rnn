{
 "cells": [
  {
   "cell_type": "code",
   "execution_count": 1,
   "metadata": {},
   "outputs": [
    {
     "name": "stderr",
     "output_type": "stream",
     "text": [
      "/opt/anaconda3/lib/python3.7/site-packages/pandas_datareader/compat/__init__.py:7: FutureWarning: pandas.util.testing is deprecated. Use the functions in the public API at pandas.testing instead.\n",
      "  from pandas.util.testing import assert_frame_equal\n"
     ]
    }
   ],
   "source": [
    "## data coollection\n",
    "import pandas_datareader as pdr\n",
    "import pandas_datareader.data as web\n",
    "import os \n",
    "import pandas as pd\n",
    "\n"
   ]
  },
  {
   "cell_type": "code",
   "execution_count": 2,
   "metadata": {},
   "outputs": [],
   "source": [
    "key = \"9c61dd5e6a29f5480b574391a70e26101906fbea\""
   ]
  },
  {
   "cell_type": "code",
   "execution_count": 3,
   "metadata": {},
   "outputs": [],
   "source": [
    "## tiingo is tracing platform that provides a data api with historical end of the day prices on equities, mutual_funds  and etfs\n"
   ]
  },
  {
   "cell_type": "code",
   "execution_count": 4,
   "metadata": {},
   "outputs": [],
   "source": [
    "df = pdr.get_data_tiingo(\"GOOG\", api_key = key)\n",
    "df.dropna()\n",
    "df.to_csv(\"GOOG.csv\")\n",
    "date_arr  = [i[1] for i in df.index]\n",
    "df.reset_index(inplace = True)\n",
    "df[\"date\"] = date_arr\n",
    "\n"
   ]
  },
  {
   "cell_type": "code",
   "execution_count": 5,
   "metadata": {},
   "outputs": [
    {
     "data": {
      "text/html": [
       "<div>\n",
       "<style scoped>\n",
       "    .dataframe tbody tr th:only-of-type {\n",
       "        vertical-align: middle;\n",
       "    }\n",
       "\n",
       "    .dataframe tbody tr th {\n",
       "        vertical-align: top;\n",
       "    }\n",
       "\n",
       "    .dataframe thead th {\n",
       "        text-align: right;\n",
       "    }\n",
       "</style>\n",
       "<table border=\"1\" class=\"dataframe\">\n",
       "  <thead>\n",
       "    <tr style=\"text-align: right;\">\n",
       "      <th></th>\n",
       "      <th>symbol</th>\n",
       "      <th>date</th>\n",
       "      <th>close</th>\n",
       "      <th>high</th>\n",
       "      <th>low</th>\n",
       "      <th>open</th>\n",
       "      <th>volume</th>\n",
       "      <th>adjClose</th>\n",
       "      <th>adjHigh</th>\n",
       "      <th>adjLow</th>\n",
       "      <th>adjOpen</th>\n",
       "      <th>adjVolume</th>\n",
       "      <th>divCash</th>\n",
       "      <th>splitFactor</th>\n",
       "    </tr>\n",
       "  </thead>\n",
       "  <tbody>\n",
       "    <tr>\n",
       "      <th>0</th>\n",
       "      <td>GOOG</td>\n",
       "      <td>2015-06-24 00:00:00+00:00</td>\n",
       "      <td>537.84</td>\n",
       "      <td>540.00</td>\n",
       "      <td>535.66</td>\n",
       "      <td>540.00</td>\n",
       "      <td>1286608</td>\n",
       "      <td>537.84</td>\n",
       "      <td>540.00</td>\n",
       "      <td>535.66</td>\n",
       "      <td>540.00</td>\n",
       "      <td>1286608</td>\n",
       "      <td>0.0</td>\n",
       "      <td>1.0</td>\n",
       "    </tr>\n",
       "    <tr>\n",
       "      <th>1</th>\n",
       "      <td>GOOG</td>\n",
       "      <td>2015-06-25 00:00:00+00:00</td>\n",
       "      <td>535.23</td>\n",
       "      <td>540.90</td>\n",
       "      <td>535.23</td>\n",
       "      <td>538.87</td>\n",
       "      <td>1335697</td>\n",
       "      <td>535.23</td>\n",
       "      <td>540.90</td>\n",
       "      <td>535.23</td>\n",
       "      <td>538.87</td>\n",
       "      <td>1335697</td>\n",
       "      <td>0.0</td>\n",
       "      <td>1.0</td>\n",
       "    </tr>\n",
       "    <tr>\n",
       "      <th>2</th>\n",
       "      <td>GOOG</td>\n",
       "      <td>2015-06-26 00:00:00+00:00</td>\n",
       "      <td>531.69</td>\n",
       "      <td>537.76</td>\n",
       "      <td>531.35</td>\n",
       "      <td>537.26</td>\n",
       "      <td>2109130</td>\n",
       "      <td>531.69</td>\n",
       "      <td>537.76</td>\n",
       "      <td>531.35</td>\n",
       "      <td>537.26</td>\n",
       "      <td>2109130</td>\n",
       "      <td>0.0</td>\n",
       "      <td>1.0</td>\n",
       "    </tr>\n",
       "  </tbody>\n",
       "</table>\n",
       "</div>"
      ],
      "text/plain": [
       "  symbol                      date   close    high     low    open   volume  \\\n",
       "0   GOOG 2015-06-24 00:00:00+00:00  537.84  540.00  535.66  540.00  1286608   \n",
       "1   GOOG 2015-06-25 00:00:00+00:00  535.23  540.90  535.23  538.87  1335697   \n",
       "2   GOOG 2015-06-26 00:00:00+00:00  531.69  537.76  531.35  537.26  2109130   \n",
       "\n",
       "   adjClose  adjHigh  adjLow  adjOpen  adjVolume  divCash  splitFactor  \n",
       "0    537.84   540.00  535.66   540.00    1286608      0.0          1.0  \n",
       "1    535.23   540.90  535.23   538.87    1335697      0.0          1.0  \n",
       "2    531.69   537.76  531.35   537.26    2109130      0.0          1.0  "
      ]
     },
     "execution_count": 5,
     "metadata": {},
     "output_type": "execute_result"
    }
   ],
   "source": [
    "df.head(3)"
   ]
  },
  {
   "cell_type": "code",
   "execution_count": 6,
   "metadata": {},
   "outputs": [
    {
     "data": {
      "text/plain": [
       "<matplotlib.axes._subplots.AxesSubplot at 0x11d8b7150>"
      ]
     },
     "execution_count": 6,
     "metadata": {},
     "output_type": "execute_result"
    },
    {
     "data": {
      "image/png": "[encoded data removed]",
      "text/plain": [
       "<Figure size 432x288 with 1 Axes>"
      ]
     },
     "metadata": {
      "needs_background": "light"
     },
     "output_type": "display_data"
    }
   ],
   "source": [
    "import matplotlib.pyplot as plt\n",
    "import seaborn as sns \n",
    "pd.plotting.register_matplotlib_converters()\n",
    "sns.lineplot(df[\"date\"], df[\"close\"], palette=\"ch:2.5,.25\")"
   ]
  },
  {
   "cell_type": "code",
   "execution_count": 7,
   "metadata": {},
   "outputs": [],
   "source": [
    "#getting the independant data from the df\n",
    "import numpy as np\n",
    "df_market = df[\"close\"]\n",
    "# sclaing down the traning data becsue LSTM is sensistive to high variance data \n",
    "from sklearn.preprocessing import MinMaxScaler\n",
    "scaler = MinMaxScaler(feature_range = (0,1))\n",
    "df_market = scaler.fit_transform(np.array(df_market).reshape(-1, 1))"
   ]
  },
  {
   "cell_type": "code",
   "execution_count": 8,
   "metadata": {},
   "outputs": [],
   "source": [
    "######### splitting of data into train and test ########\n",
    "# LSTM wont work well with random splitting of data using random seed or cross validation\n",
    "training_size =  int(len(df_market) * 0.7)\n",
    "test_size = len(df_market) - training_size\n",
    "train_data = df_market[0:training_size,  :]\n",
    "test_data = df_market[training_size :, :]"
   ]
  },
  {
   "cell_type": "code",
   "execution_count": 9,
   "metadata": {
    "tags": []
   },
   "outputs": [
    {
     "name": "stdout",
     "output_type": "stream",
     "text": [
      "(879, 1) (378, 1)\n"
     ]
    }
   ],
   "source": [
    "print(train_data.shape, test_data.shape)"
   ]
  },
  {
   "cell_type": "code",
   "execution_count": 13,
   "metadata": {},
   "outputs": [],
   "source": [
    "#timesteps is the number of independant features to consider in each cell state \n",
    "#for example ime setp of 3 days means that the prev 3 days will be the independant features for the prediction of preceeding one\n",
    "#the data will be trained in susch a way that prev 3 days will Xtrain and 4th day will y_train \n",
    "##### converting an array of values into a datset matrux \n",
    "def create_dataset(dataset, timestep = 1):\n",
    "    dataX, dataY = [], []\n",
    "    for i in range(len(dataset) - timestep - 1):\n",
    "        a = dataset[i : (i + timestep), 0]\n",
    "        dataX.append(a) #X_train data \n",
    "        dataY.append(dataset[i + timestep, 0])  #y_train\n",
    "    return np.array(dataX), np.array(dataY)\n",
    "    \n",
    "\n",
    "\n",
    "\n",
    "\n",
    "\n"
   ]
  },
  {
   "cell_type": "code",
   "execution_count": 22,
   "metadata": {},
   "outputs": [],
   "source": [
    "# reshape into X= t, t + 1, t + 2 anf y = t + 4\n",
    "timestep = 100 \n",
    "X_train, y_train = create_dataset(train_data, timestep)\n",
    "X_test, y_test = create_dataset(test_data, timestep)"
   ]
  },
  {
   "cell_type": "code",
   "execution_count": 28,
   "metadata": {},
   "outputs": [],
   "source": [
    "#converting the data into indepenedanty data into 3 dimension for LSTM nets \n",
    "X_train = X_train.reshape(X_train.shape[0], X_train.shape[1], 1)\n",
    "X_test = X_test.reshape(X_test.shape[0], X_test.shape[1], 1)"
   ]
  },
  {
   "cell_type": "code",
   "execution_count": 29,
   "metadata": {},
   "outputs": [
    {
     "data": {
      "text/plain": [
       "((778, 100, 1), (778,), (277, 100, 1), (277,))"
      ]
     },
     "execution_count": 29,
     "metadata": {},
     "output_type": "execute_result"
    }
   ],
   "source": [
    "X_train.shape, y_train.shape, X_test.shape, y_test.shape\n"
   ]
  },
  {
   "cell_type": "code",
   "execution_count": 26,
   "metadata": {},
   "outputs": [],
   "source": [
    "# Create an LSTM model\n",
    "from tensorflow.keras.models import Sequential\n",
    "from tensorflow.keras.layers import Dense, LSTM"
   ]
  },
  {
   "cell_type": "code",
   "execution_count": 41,
   "metadata": {},
   "outputs": [],
   "source": [
    "model=Sequential()\n",
    "model.add(LSTM(50,return_sequences=True,input_shape=(100,1)))\n",
    "model.add(LSTM(50,return_sequences=True))\n",
    "model.add(LSTM(50))\n",
    "model.add(Dense(1))\n",
    "model.compile(loss='mean_squared_error',optimizer='adam')"
   ]
  },
  {
   "cell_type": "code",
   "execution_count": 42,
   "metadata": {},
   "outputs": [
    {
     "name": "stdout",
     "output_type": "stream",
     "text": [
      "Model: \"sequential_4\"\n",
      "_________________________________________________________________\n",
      "Layer (type)                 Output Shape              Param #   \n",
      "=================================================================\n",
      "lstm_9 (LSTM)                (None, 100, 50)           10400     \n",
      "_________________________________________________________________\n",
      "lstm_10 (LSTM)               (None, 100, 50)           20200     \n",
      "_________________________________________________________________\n",
      "lstm_11 (LSTM)               (None, 50)                20200     \n",
      "_________________________________________________________________\n",
      "dense_3 (Dense)              (None, 1)                 51        \n",
      "=================================================================\n",
      "Total params: 50,851\n",
      "Trainable params: 50,851\n",
      "Non-trainable params: 0\n",
      "_________________________________________________________________\n"
     ]
    }
   ],
   "source": [
    "model.summary()"
   ]
  },
  {
   "cell_type": "code",
   "execution_count": null,
   "metadata": {},
   "outputs": [
    {
     "name": "stdout",
     "output_type": "stream",
     "text": [
      "Train on 778 samples, validate on 277 samples\n",
      "Epoch 1/100\n",
      "778/778 [==============================] - 21s 28ms/sample - loss: 0.0323 - val_loss: 0.0616\n",
      "Epoch 2/100\n",
      "778/778 [==============================] - 11s 14ms/sample - loss: 0.0050 - val_loss: 0.0233\n",
      "Epoch 3/100\n",
      "778/778 [==============================] - 12s 16ms/sample - loss: 0.0026 - val_loss: 0.0085\n",
      "Epoch 4/100\n",
      "778/778 [==============================] - 15s 19ms/sample - loss: 0.0015 - val_loss: 0.0075\n",
      "Epoch 5/100\n",
      "778/778 [==============================] - 9s 11ms/sample - loss: 0.0013 - val_loss: 0.0074\n",
      "Epoch 6/100\n",
      "778/778 [==============================] - 14s 17ms/sample - loss: 0.0014 - val_loss: 0.0075\n",
      "Epoch 7/100\n",
      "778/778 [==============================] - 11s 14ms/sample - loss: 0.0013 - val_loss: 0.0086\n",
      "Epoch 8/100\n",
      "778/778 [==============================] - 9s 11ms/sample - loss: 0.0013 - val_loss: 0.0092\n",
      "Epoch 9/100\n",
      "778/778 [==============================] - 11s 14ms/sample - loss: 0.0013 - val_loss: 0.0087\n",
      "Epoch 10/100\n",
      "778/778 [==============================] - 11s 14ms/sample - loss: 0.0013 - val_loss: 0.0085\n",
      "Epoch 11/100\n",
      "778/778 [==============================] - 10s 12ms/sample - loss: 0.0013 - val_loss: 0.0096\n",
      "Epoch 12/100\n",
      "778/778 [==============================] - 10s 13ms/sample - loss: 0.0013 - val_loss: 0.0102\n",
      "Epoch 13/100\n",
      "778/778 [==============================] - 16s 20ms/sample - loss: 0.0013 - val_loss: 0.0092\n",
      "Epoch 14/100\n",
      "778/778 [==============================] - 12s 15ms/sample - loss: 0.0012 - val_loss: 0.0070\n",
      "Epoch 15/100\n",
      "448/778 [================>.............] - ETA: 5s - loss: 0.0012"
     ]
    }
   ],
   "source": [
    "# fitting the model \n",
    "model.fit(X_train, y_train, validation_data = (X_test , y_test),epochs=100, batch_size = 64, verbose = 1)"
   ]
  },
  {
   "cell_type": "code",
   "execution_count": null,
   "metadata": {},
   "outputs": [],
   "source": []
  }
 ],
 "metadata": {
  "kernelspec": {
   "display_name": "Python 3",
   "language": "python",
   "name": "python3"
  },
  "language_info": {
   "codemirror_mode": {
    "name": "ipython",
    "version": 3
   },
   "file_extension": ".py",
   "mimetype": "text/x-python",
   "name": "python",
   "nbconvert_exporter": "python",
   "pygments_lexer": "ipython3",
   "version": "3.7.5"
  }
 },
 "nbformat": 4,
 "nbformat_minor": 2
}
