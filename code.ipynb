{
 "cells": [
  {
   "cell_type": "code",
   "execution_count": 2,
   "metadata": {},
   "outputs": [
    {
     "name": "stderr",
     "output_type": "stream",
     "text": [
      "C:\\Users\\naham\\anaconda3\\lib\\site-packages\\pandas_datareader\\compat\\__init__.py:7: FutureWarning: pandas.util.testing is deprecated. Use the functions in the public API at pandas.testing instead.\n",
      "  from pandas.util.testing import assert_frame_equal\n"
     ]
    }
   ],
   "source": [
    "## data coollection\n",
    "import pandas_datareader as pdr\n",
    "import pandas_datareader.data as web\n",
    "import os \n",
    "\n",
    "import pandas as pd\n",
    "\n"
   ]
  },
  {
   "cell_type": "code",
   "execution_count": 3,
   "metadata": {},
   "outputs": [],
   "source": [
    "key = \"9c61dd5e6a29f5480b574391a70e26101906fbea\""
   ]
  },
  {
   "cell_type": "code",
   "execution_count": 3,
   "metadata": {},
   "outputs": [],
   "source": [
    "## tiingo is tracing platform that provides a data api with historical end of the day prices on equities, mutual_funds  and etfs\n"
   ]
  },
  {
   "cell_type": "code",
   "execution_count": 4,
   "metadata": {},
   "outputs": [],
   "source": [
    "df = pdr.get_data_tiingo(\"GOOG\", api_key = key)\n",
    "df.dropna()\n",
    "df.to_csv(\"GOOG.csv\")\n",
    "date_arr  = [i[1] for i in df.index]\n",
    "df.reset_index(inplace = True)\n",
    "df[\"date\"] = date_arr\n",
    "\n"
   ]
  },
  {
   "cell_type": "code",
   "execution_count": 5,
   "metadata": {},
   "outputs": [
    {
     "data": {
      "text/html": [
       "<div>\n",
       "<style scoped>\n",
       "    .dataframe tbody tr th:only-of-type {\n",
       "        vertical-align: middle;\n",
       "    }\n",
       "\n",
       "    .dataframe tbody tr th {\n",
       "        vertical-align: top;\n",
       "    }\n",
       "\n",
       "    .dataframe thead th {\n",
       "        text-align: right;\n",
       "    }\n",
       "</style>\n",
       "<table border=\"1\" class=\"dataframe\">\n",
       "  <thead>\n",
       "    <tr style=\"text-align: right;\">\n",
       "      <th></th>\n",
       "      <th>symbol</th>\n",
       "      <th>date</th>\n",
       "      <th>close</th>\n",
       "      <th>high</th>\n",
       "      <th>low</th>\n",
       "      <th>open</th>\n",
       "      <th>volume</th>\n",
       "      <th>adjClose</th>\n",
       "      <th>adjHigh</th>\n",
       "      <th>adjLow</th>\n",
       "      <th>adjOpen</th>\n",
       "      <th>adjVolume</th>\n",
       "      <th>divCash</th>\n",
       "      <th>splitFactor</th>\n",
       "    </tr>\n",
       "  </thead>\n",
       "  <tbody>\n",
       "    <tr>\n",
       "      <th>0</th>\n",
       "      <td>GOOG</td>\n",
       "      <td>2015-06-24 00:00:00+00:00</td>\n",
       "      <td>537.84</td>\n",
       "      <td>540.00</td>\n",
       "      <td>535.66</td>\n",
       "      <td>540.00</td>\n",
       "      <td>1286608</td>\n",
       "      <td>537.84</td>\n",
       "      <td>540.00</td>\n",
       "      <td>535.66</td>\n",
       "      <td>540.00</td>\n",
       "      <td>1286608</td>\n",
       "      <td>0.0</td>\n",
       "      <td>1.0</td>\n",
       "    </tr>\n",
       "    <tr>\n",
       "      <th>1</th>\n",
       "      <td>GOOG</td>\n",
       "      <td>2015-06-25 00:00:00+00:00</td>\n",
       "      <td>535.23</td>\n",
       "      <td>540.90</td>\n",
       "      <td>535.23</td>\n",
       "      <td>538.87</td>\n",
       "      <td>1335697</td>\n",
       "      <td>535.23</td>\n",
       "      <td>540.90</td>\n",
       "      <td>535.23</td>\n",
       "      <td>538.87</td>\n",
       "      <td>1335697</td>\n",
       "      <td>0.0</td>\n",
       "      <td>1.0</td>\n",
       "    </tr>\n",
       "    <tr>\n",
       "      <th>2</th>\n",
       "      <td>GOOG</td>\n",
       "      <td>2015-06-26 00:00:00+00:00</td>\n",
       "      <td>531.69</td>\n",
       "      <td>537.76</td>\n",
       "      <td>531.35</td>\n",
       "      <td>537.26</td>\n",
       "      <td>2109130</td>\n",
       "      <td>531.69</td>\n",
       "      <td>537.76</td>\n",
       "      <td>531.35</td>\n",
       "      <td>537.26</td>\n",
       "      <td>2109130</td>\n",
       "      <td>0.0</td>\n",
       "      <td>1.0</td>\n",
       "    </tr>\n",
       "  </tbody>\n",
       "</table>\n",
       "</div>"
      ],
      "text/plain": [
       "  symbol                      date   close    high     low    open   volume  \\\n",
       "0   GOOG 2015-06-24 00:00:00+00:00  537.84  540.00  535.66  540.00  1286608   \n",
       "1   GOOG 2015-06-25 00:00:00+00:00  535.23  540.90  535.23  538.87  1335697   \n",
       "2   GOOG 2015-06-26 00:00:00+00:00  531.69  537.76  531.35  537.26  2109130   \n",
       "\n",
       "   adjClose  adjHigh  adjLow  adjOpen  adjVolume  divCash  splitFactor  \n",
       "0    537.84   540.00  535.66   540.00    1286608      0.0          1.0  \n",
       "1    535.23   540.90  535.23   538.87    1335697      0.0          1.0  \n",
       "2    531.69   537.76  531.35   537.26    2109130      0.0          1.0  "
      ]
     },
     "execution_count": 5,
     "metadata": {},
     "output_type": "execute_result"
    }
   ],
   "source": [
    "df.head(3)"
   ]
  },
  {
   "cell_type": "code",
   "execution_count": 6,
   "metadata": {},
   "outputs": [
    {
     "data": {
      "text/plain": [
       "<matplotlib.axes._subplots.AxesSubplot at 0x235ddce5388>"
      ]
     },
     "execution_count": 6,
     "metadata": {},
     "output_type": "execute_result"
    },
    {
     "data": {
      "image/png": "[encoded data removed]",
      "text/plain": [
       "<Figure size 432x288 with 1 Axes>"
      ]
     },
     "metadata": {
      "needs_background": "light"
     },
     "output_type": "display_data"
    }
   ],
   "source": [
    "import matplotlib.pyplot as plt\n",
    "import seaborn as sns \n",
    "pd.plotting.register_matplotlib_converters()\n",
    "sns.lineplot(df[\"date\"], df[\"close\"], palette=\"ch:2.5,.25\")"
   ]
  },
  {
   "cell_type": "code",
   "execution_count": 7,
   "metadata": {},
   "outputs": [],
   "source": [
    "#getting the independant data from the df\n",
    "import numpy as np\n",
    "df_market = df[\"close\"]\n",
    "# sclaing down the traning data becsue LSTM is sensistive to high variance data \n",
    "from sklearn.preprocessing import MinMaxScaler\n",
    "scaler = MinMaxScaler(feature_range = (0,1))\n",
    "df_market = scaler.fit_transform(np.array(df_market).reshape(-1, 1))"
   ]
  },
  {
   "cell_type": "code",
   "execution_count": 8,
   "metadata": {},
   "outputs": [],
   "source": [
    "######### splitting of data into train and test ########\n",
    "# LSTM wont work well with random splitting of data using random seed or cross validation\n",
    "training_size =  int(len(df_market) * 0.7)\n",
    "test_size = len(df_market) - training_size\n",
    "train_data = df_market[0:training_size,  :]\n",
    "test_data = df_market[training_size :, :]"
   ]
  },
  {
   "cell_type": "code",
   "execution_count": 9,
   "metadata": {},
   "outputs": [
    {
     "data": {
      "text/plain": [
       "1257"
      ]
     },
     "execution_count": 9,
     "metadata": {},
     "output_type": "execute_result"
    }
   ],
   "source": [
    "train_data.shape[0] + test_data.shape[0]"
   ]
  },
  {
   "cell_type": "code",
   "execution_count": 10,
   "metadata": {
    "tags": []
   },
   "outputs": [
    {
     "name": "stdout",
     "output_type": "stream",
     "text": [
      "(879, 1) (378, 1)\n"
     ]
    }
   ],
   "source": [
    "print(train_data.shape, test_data.shape)"
   ]
  },
  {
   "cell_type": "code",
   "execution_count": 11,
   "metadata": {},
   "outputs": [],
   "source": [
    "#timesteps is the number of independant features to consider in each cell state \n",
    "#for example ime setp of 3 days means that the prev 3 days will be the independant features for the prediction of preceeding one\n",
    "#the data will be trained in susch a way that prev 3 days will Xtrain and 4th day will y_train \n",
    "##### converting an array of values into a datset matrux \n",
    "def create_dataset(dataset, timestep = 1):\n",
    "    dataX, dataY = [], []\n",
    "    for i in range(len(dataset) - timestep - 1):\n",
    "        a = dataset[i : (i + timestep), 0]\n",
    "        dataX.append(a) #X_train data \n",
    "        dataY.append(dataset[i + timestep, 0])  #y_train\n",
    "    return np.array(dataX), np.array(dataY)\n",
    "    \n",
    "\n",
    "\n",
    "\n",
    "\n",
    "\n"
   ]
  },
  {
   "cell_type": "code",
   "execution_count": 12,
   "metadata": {},
   "outputs": [],
   "source": [
    "# reshape into X= t, t + 1, t + 2 anf y = t + 4\n",
    "timestep = 100 \n",
    "X_train, y_train = create_dataset(train_data, timestep)\n",
    "X_test, y_test = create_dataset(test_data, timestep)"
   ]
  },
  {
   "cell_type": "code",
   "execution_count": 13,
   "metadata": {},
   "outputs": [],
   "source": [
    "#converting the data into indepenedanty data into 3 dimension for LSTM nets \n",
    "X_train = X_train.reshape(X_train.shape[0], X_train.shape[1], 1)\n",
    "X_test = X_test.reshape(X_test.shape[0], X_test.shape[1], 1)"
   ]
  },
  {
   "cell_type": "code",
   "execution_count": 14,
   "metadata": {},
   "outputs": [
    {
     "data": {
      "text/plain": [
       "((778, 100, 1), (778,), (277, 100, 1), (277,))"
      ]
     },
     "execution_count": 14,
     "metadata": {},
     "output_type": "execute_result"
    }
   ],
   "source": [
    "X_train.shape, y_train.shape, X_test.shape, y_test.shape\n"
   ]
  },
  {
   "cell_type": "code",
   "execution_count": 15,
   "metadata": {},
   "outputs": [],
   "source": [
    "# Create an LSTM model\n",
    "from tensorflow.keras.models import Sequential\n",
    "from tensorflow.keras.layers import Dense, LSTM"
   ]
  },
  {
   "cell_type": "code",
   "execution_count": 16,
   "metadata": {},
   "outputs": [],
   "source": [
    "model=Sequential()\n",
    "model.add(LSTM(50,return_sequences=True,input_shape=(100,1)))\n",
    "model.add(LSTM(50,return_sequences=True))\n",
    "model.add(LSTM(50))\n",
    "model.add(Dense(1, activation = \"linear\"))\n",
    "model.compile(loss='mean_squared_error',optimizer='adam')"
   ]
  },
  {
   "cell_type": "code",
   "execution_count": 17,
   "metadata": {},
   "outputs": [
    {
     "name": "stdout",
     "output_type": "stream",
     "text": [
      "Model: \"sequential\"\n",
      "_________________________________________________________________\n",
      "Layer (type)                 Output Shape              Param #   \n",
      "=================================================================\n",
      "lstm (LSTM)                  (None, 100, 50)           10400     \n",
      "_________________________________________________________________\n",
      "lstm_1 (LSTM)                (None, 100, 50)           20200     \n",
      "_________________________________________________________________\n",
      "lstm_2 (LSTM)                (None, 50)                20200     \n",
      "_________________________________________________________________\n",
      "dense (Dense)                (None, 1)                 51        \n",
      "=================================================================\n",
      "Total params: 50,851\n",
      "Trainable params: 50,851\n",
      "Non-trainable params: 0\n",
      "_________________________________________________________________\n"
     ]
    }
   ],
   "source": [
    "model.summary()"
   ]
  },
  {
   "cell_type": "code",
   "execution_count": 18,
   "metadata": {
    "scrolled": true
   },
   "outputs": [
    {
     "name": "stdout",
     "output_type": "stream",
     "text": [
      "Epoch 1/100\n",
      "13/13 [==============================] - 2s 141ms/step - loss: 0.0478 - val_loss: 0.0726\n",
      "Epoch 2/100\n",
      "13/13 [==============================] - 1s 81ms/step - loss: 0.0079 - val_loss: 0.0123\n",
      "Epoch 3/100\n",
      "13/13 [==============================] - 1s 84ms/step - loss: 0.0031 - val_loss: 0.0065\n",
      "Epoch 4/100\n",
      "13/13 [==============================] - 1s 83ms/step - loss: 0.0017 - val_loss: 0.0054\n",
      "Epoch 5/100\n",
      "13/13 [==============================] - 1s 95ms/step - loss: 0.0013 - val_loss: 0.0053\n",
      "Epoch 6/100\n",
      "13/13 [==============================] - 1s 86ms/step - loss: 0.0012 - val_loss: 0.0053\n",
      "Epoch 7/100\n",
      "13/13 [==============================] - 1s 94ms/step - loss: 0.0012 - val_loss: 0.0052\n",
      "Epoch 8/100\n",
      "13/13 [==============================] - 1s 87ms/step - loss: 0.0011 - val_loss: 0.0054\n",
      "Epoch 9/100\n",
      "13/13 [==============================] - 1s 87ms/step - loss: 0.0011 - val_loss: 0.0056\n",
      "Epoch 10/100\n",
      "13/13 [==============================] - 1s 88ms/step - loss: 0.0011 - val_loss: 0.0049\n",
      "Epoch 11/100\n",
      "13/13 [==============================] - 1s 88ms/step - loss: 0.0011 - val_loss: 0.0049\n",
      "Epoch 12/100\n",
      "13/13 [==============================] - 1s 87ms/step - loss: 0.0011 - val_loss: 0.0061\n",
      "Epoch 13/100\n",
      "13/13 [==============================] - 1s 84ms/step - loss: 0.0011 - val_loss: 0.0062\n",
      "Epoch 14/100\n",
      "13/13 [==============================] - 1s 87ms/step - loss: 0.0011 - val_loss: 0.0047\n",
      "Epoch 15/100\n",
      "13/13 [==============================] - 1s 88ms/step - loss: 0.0011 - val_loss: 0.0047\n",
      "Epoch 16/100\n",
      "13/13 [==============================] - 1s 85ms/step - loss: 0.0010 - val_loss: 0.0063\n",
      "Epoch 17/100\n",
      "13/13 [==============================] - 1s 87ms/step - loss: 0.0010 - val_loss: 0.0047\n",
      "Epoch 18/100\n",
      "13/13 [==============================] - 1s 84ms/step - loss: 9.8062e-04 - val_loss: 0.0050\n",
      "Epoch 19/100\n",
      "13/13 [==============================] - 1s 83ms/step - loss: 9.6187e-04 - val_loss: 0.0044\n",
      "Epoch 20/100\n",
      "13/13 [==============================] - 1s 85ms/step - loss: 9.6362e-04 - val_loss: 0.0045\n",
      "Epoch 21/100\n",
      "13/13 [==============================] - 1s 92ms/step - loss: 9.9666e-04 - val_loss: 0.0050\n",
      "Epoch 22/100\n",
      "13/13 [==============================] - 1s 89ms/step - loss: 9.1032e-04 - val_loss: 0.0045\n",
      "Epoch 23/100\n",
      "13/13 [==============================] - 1s 88ms/step - loss: 8.9577e-04 - val_loss: 0.0034\n",
      "Epoch 24/100\n",
      "13/13 [==============================] - 1s 86ms/step - loss: 9.5152e-04 - val_loss: 0.0045\n",
      "Epoch 25/100\n",
      "13/13 [==============================] - 1s 86ms/step - loss: 8.6310e-04 - val_loss: 0.0032\n",
      "Epoch 26/100\n",
      "13/13 [==============================] - 1s 88ms/step - loss: 8.8484e-04 - val_loss: 0.0053\n",
      "Epoch 27/100\n",
      "13/13 [==============================] - 1s 84ms/step - loss: 8.7238e-04 - val_loss: 0.0028\n",
      "Epoch 28/100\n",
      "13/13 [==============================] - 1s 82ms/step - loss: 0.0010 - val_loss: 0.0031\n",
      "Epoch 29/100\n",
      "13/13 [==============================] - 1s 83ms/step - loss: 0.0010 - val_loss: 0.0072\n",
      "Epoch 30/100\n",
      "13/13 [==============================] - 1s 84ms/step - loss: 9.9032e-04 - val_loss: 0.0030\n",
      "Epoch 31/100\n",
      "13/13 [==============================] - 1s 95ms/step - loss: 8.0234e-04 - val_loss: 0.0051\n",
      "Epoch 32/100\n",
      "13/13 [==============================] - 1s 94ms/step - loss: 8.9287e-04 - val_loss: 0.0026\n",
      "Epoch 33/100\n",
      "13/13 [==============================] - 1s 89ms/step - loss: 8.3828e-04 - val_loss: 0.0047\n",
      "Epoch 34/100\n",
      "13/13 [==============================] - 1s 84ms/step - loss: 8.1992e-04 - val_loss: 0.0024\n",
      "Epoch 35/100\n",
      "13/13 [==============================] - 1s 84ms/step - loss: 8.0956e-04 - val_loss: 0.0051\n",
      "Epoch 36/100\n",
      "13/13 [==============================] - 1s 84ms/step - loss: 7.9622e-04 - val_loss: 0.0041\n",
      "Epoch 37/100\n",
      "13/13 [==============================] - 1s 84ms/step - loss: 7.8889e-04 - val_loss: 0.0026\n",
      "Epoch 38/100\n",
      "13/13 [==============================] - 1s 85ms/step - loss: 7.9937e-04 - val_loss: 0.0020\n",
      "Epoch 39/100\n",
      "13/13 [==============================] - 1s 84ms/step - loss: 8.7241e-04 - val_loss: 0.0035\n",
      "Epoch 40/100\n",
      "13/13 [==============================] - 1s 85ms/step - loss: 8.6577e-04 - val_loss: 0.0054\n",
      "Epoch 41/100\n",
      "13/13 [==============================] - 1s 84ms/step - loss: 8.3290e-04 - val_loss: 0.0020\n",
      "Epoch 42/100\n",
      "13/13 [==============================] - 1s 85ms/step - loss: 0.0011 - val_loss: 0.0045\n",
      "Epoch 43/100\n",
      "13/13 [==============================] - 1s 84ms/step - loss: 7.3573e-04 - val_loss: 0.0019\n",
      "Epoch 44/100\n",
      "13/13 [==============================] - 1s 84ms/step - loss: 8.4967e-04 - val_loss: 0.0059\n",
      "Epoch 45/100\n",
      "13/13 [==============================] - 1s 83ms/step - loss: 8.0335e-04 - val_loss: 0.0026\n",
      "Epoch 46/100\n",
      "13/13 [==============================] - 1s 84ms/step - loss: 7.0971e-04 - val_loss: 0.0053\n",
      "Epoch 47/100\n",
      "13/13 [==============================] - 1s 84ms/step - loss: 8.4411e-04 - val_loss: 0.0030\n",
      "Epoch 48/100\n",
      "13/13 [==============================] - 1s 84ms/step - loss: 6.6766e-04 - val_loss: 0.0032\n",
      "Epoch 49/100\n",
      "13/13 [==============================] - 1s 83ms/step - loss: 6.5783e-04 - val_loss: 0.0019\n",
      "Epoch 50/100\n",
      "13/13 [==============================] - 1s 85ms/step - loss: 7.8071e-04 - val_loss: 0.0053\n",
      "Epoch 51/100\n",
      "13/13 [==============================] - 1s 85ms/step - loss: 7.7478e-04 - val_loss: 0.0025\n",
      "Epoch 52/100\n",
      "13/13 [==============================] - 1s 84ms/step - loss: 6.4365e-04 - val_loss: 0.0019\n",
      "Epoch 53/100\n",
      "13/13 [==============================] - 1s 85ms/step - loss: 6.4305e-04 - val_loss: 0.0037\n",
      "Epoch 54/100\n",
      "13/13 [==============================] - 1s 85ms/step - loss: 6.6765e-04 - val_loss: 0.0017\n",
      "Epoch 55/100\n",
      "13/13 [==============================] - 1s 84ms/step - loss: 7.1269e-04 - val_loss: 0.0016\n",
      "Epoch 56/100\n",
      "13/13 [==============================] - 1s 84ms/step - loss: 8.4021e-04 - val_loss: 0.0021\n",
      "Epoch 57/100\n",
      "13/13 [==============================] - 1s 83ms/step - loss: 6.9213e-04 - val_loss: 0.0041\n",
      "Epoch 58/100\n",
      "13/13 [==============================] - 1s 84ms/step - loss: 7.9118e-04 - val_loss: 0.0016\n",
      "Epoch 59/100\n",
      "13/13 [==============================] - 1s 83ms/step - loss: 7.0172e-04 - val_loss: 0.0037\n",
      "Epoch 60/100\n",
      "13/13 [==============================] - 1s 90ms/step - loss: 6.3199e-04 - val_loss: 0.0029\n",
      "Epoch 61/100\n",
      "13/13 [==============================] - 1s 108ms/step - loss: 6.1523e-04 - val_loss: 0.0015\n",
      "Epoch 62/100\n",
      "13/13 [==============================] - 1s 89ms/step - loss: 5.9720e-04 - val_loss: 0.0034\n",
      "Epoch 63/100\n",
      "13/13 [==============================] - 1s 87ms/step - loss: 6.2908e-04 - val_loss: 0.0014\n",
      "Epoch 64/100\n",
      "13/13 [==============================] - 1s 87ms/step - loss: 6.6131e-04 - val_loss: 0.0021\n",
      "Epoch 65/100\n",
      "13/13 [==============================] - 1s 99ms/step - loss: 5.4827e-04 - val_loss: 0.0020\n",
      "Epoch 66/100\n",
      "13/13 [==============================] - 1s 96ms/step - loss: 5.2626e-04 - val_loss: 0.0021\n",
      "Epoch 67/100\n",
      "13/13 [==============================] - 1s 94ms/step - loss: 5.2082e-04 - val_loss: 0.0015\n",
      "Epoch 68/100\n",
      "13/13 [==============================] - 1s 88ms/step - loss: 5.3503e-04 - val_loss: 0.0025\n",
      "Epoch 69/100\n",
      "13/13 [==============================] - 1s 89ms/step - loss: 5.0395e-04 - val_loss: 0.0017\n",
      "Epoch 70/100\n",
      "13/13 [==============================] - 1s 88ms/step - loss: 5.1176e-04 - val_loss: 0.0023\n",
      "Epoch 71/100\n",
      "13/13 [==============================] - 1s 90ms/step - loss: 5.1696e-04 - val_loss: 0.0024\n",
      "Epoch 72/100\n",
      "13/13 [==============================] - 1s 86ms/step - loss: 5.0049e-04 - val_loss: 0.0018\n",
      "Epoch 73/100\n",
      "13/13 [==============================] - 1s 85ms/step - loss: 5.6234e-04 - val_loss: 0.0021\n",
      "Epoch 74/100\n",
      "13/13 [==============================] - 1s 88ms/step - loss: 5.5742e-04 - val_loss: 0.0021\n",
      "Epoch 75/100\n",
      "13/13 [==============================] - 1s 86ms/step - loss: 4.9331e-04 - val_loss: 0.0025\n",
      "Epoch 76/100\n",
      "13/13 [==============================] - 1s 97ms/step - loss: 4.5433e-04 - val_loss: 0.0017\n",
      "Epoch 77/100\n",
      "13/13 [==============================] - 1s 88ms/step - loss: 4.5716e-04 - val_loss: 0.0011\n",
      "Epoch 78/100\n",
      "13/13 [==============================] - 1s 84ms/step - loss: 4.8924e-04 - val_loss: 0.0011\n",
      "Epoch 79/100\n",
      "13/13 [==============================] - 1s 85ms/step - loss: 4.3479e-04 - val_loss: 0.0014\n"
     ]
    },
    {
     "name": "stdout",
     "output_type": "stream",
     "text": [
      "Epoch 80/100\n",
      "13/13 [==============================] - 1s 92ms/step - loss: 4.1876e-04 - val_loss: 0.0015\n",
      "Epoch 81/100\n",
      "13/13 [==============================] - 1s 87ms/step - loss: 4.2248e-04 - val_loss: 0.0021\n",
      "Epoch 82/100\n",
      "13/13 [==============================] - 1s 85ms/step - loss: 5.9549e-04 - val_loss: 0.0011\n",
      "Epoch 83/100\n",
      "13/13 [==============================] - 1s 83ms/step - loss: 4.7511e-04 - val_loss: 0.0013\n",
      "Epoch 84/100\n",
      "13/13 [==============================] - 1s 83ms/step - loss: 3.8838e-04 - val_loss: 0.0013\n",
      "Epoch 85/100\n",
      "13/13 [==============================] - 1s 84ms/step - loss: 3.7847e-04 - val_loss: 0.0018\n",
      "Epoch 86/100\n",
      "13/13 [==============================] - 1s 85ms/step - loss: 4.3151e-04 - val_loss: 0.0017\n",
      "Epoch 87/100\n",
      "13/13 [==============================] - 1s 84ms/step - loss: 3.8883e-04 - val_loss: 0.0013\n",
      "Epoch 88/100\n",
      "13/13 [==============================] - 1s 86ms/step - loss: 3.5716e-04 - val_loss: 9.8644e-04\n",
      "Epoch 89/100\n",
      "13/13 [==============================] - 1s 84ms/step - loss: 4.2958e-04 - val_loss: 0.0014\n",
      "Epoch 90/100\n",
      "13/13 [==============================] - 1s 85ms/step - loss: 4.3846e-04 - val_loss: 0.0015\n",
      "Epoch 91/100\n",
      "13/13 [==============================] - 1s 84ms/step - loss: 3.8613e-04 - val_loss: 0.0016\n",
      "Epoch 92/100\n",
      "13/13 [==============================] - 1s 83ms/step - loss: 3.3950e-04 - val_loss: 9.3732e-04\n",
      "Epoch 93/100\n",
      "13/13 [==============================] - 1s 84ms/step - loss: 4.2563e-04 - val_loss: 9.3203e-04\n",
      "Epoch 94/100\n",
      "13/13 [==============================] - 1s 83ms/step - loss: 3.6489e-04 - val_loss: 0.0042\n",
      "Epoch 95/100\n",
      "13/13 [==============================] - 1s 83ms/step - loss: 5.4076e-04 - val_loss: 0.0019\n",
      "Epoch 96/100\n",
      "13/13 [==============================] - 1s 88ms/step - loss: 3.7753e-04 - val_loss: 0.0020\n",
      "Epoch 97/100\n",
      "13/13 [==============================] - 1s 100ms/step - loss: 3.8317e-04 - val_loss: 0.0013\n",
      "Epoch 98/100\n",
      "13/13 [==============================] - 1s 110ms/step - loss: 3.2598e-04 - val_loss: 8.9122e-04\n",
      "Epoch 99/100\n",
      "13/13 [==============================] - 1s 107ms/step - loss: 3.2115e-04 - val_loss: 0.0013\n",
      "Epoch 100/100\n",
      "13/13 [==============================] - 1s 92ms/step - loss: 3.0935e-04 - val_loss: 0.0013\n"
     ]
    },
    {
     "data": {
      "text/plain": [
       "<tensorflow.python.keras.callbacks.History at 0x190dfb6d748>"
      ]
     },
     "execution_count": 18,
     "metadata": {},
     "output_type": "execute_result"
    }
   ],
   "source": [
    "# fitting the model \n",
    "model.fit(X_train, y_train, validation_data = (X_test , y_test),epochs=100, batch_size = 64, verbose = 1)"
   ]
  },
  {
   "cell_type": "code",
   "execution_count": 52,
   "metadata": {},
   "outputs": [
    {
     "name": "stdout",
     "output_type": "stream",
     "text": [
      "INFO:tensorflow:Assets written to: model\\assets\n"
     ]
    }
   ],
   "source": [
    "#saving the model \n",
    "# from keras.models import model_from_json\n",
    "# model_json = model.to_json()\n",
    "# with open(\"model.json\", \"w\") as json_file:\n",
    "#     json_file.write(model_json)\n",
    "# model.save_weights(\"model.h5\")\n",
    "# print(\"Saved model to disk\")\n",
    "\n",
    "model.save('model')\n",
    "model.save(\"model/model.h5\")"
   ]
  },
  {
   "cell_type": "code",
   "execution_count": 16,
   "metadata": {},
   "outputs": [],
   "source": [
    "####### Loading the model ######\n",
    "from tensorflow import keras\n",
    "model_load = keras.models.load_model('model')\n",
    "model = model_load"
   ]
  },
  {
   "cell_type": "code",
   "execution_count": 17,
   "metadata": {},
   "outputs": [],
   "source": [
    "#predicting the data \n",
    "train_predict = model.predict(X_train)\n",
    "test_predict = model.predict(X_test)"
   ]
  },
  {
   "cell_type": "code",
   "execution_count": 18,
   "metadata": {},
   "outputs": [],
   "source": [
    "# scling up to original data \n",
    "train_predict = scaler.inverse_transform(train_predict)\n",
    "test_predict = scaler.inverse_transform(test_predict)"
   ]
  },
  {
   "cell_type": "code",
   "execution_count": 19,
   "metadata": {},
   "outputs": [],
   "source": [
    "test_predict = [i[0] for i in test_predict]\n",
    "train_predict = [i[0] for i in train_predict]"
   ]
  },
  {
   "cell_type": "code",
   "execution_count": 20,
   "metadata": {},
   "outputs": [
    {
     "data": {
      "text/plain": [
       "927.8616249645667"
      ]
     },
     "execution_count": 20,
     "metadata": {},
     "output_type": "execute_result"
    }
   ],
   "source": [
    "# calculating the rmse value \n",
    "import math\n",
    "from sklearn.metrics import mean_squared_error\n",
    "math.sqrt(mean_squared_error(y_train, train_predict))"
   ]
  },
  {
   "cell_type": "code",
   "execution_count": null,
   "metadata": {},
   "outputs": [],
   "source": [
    "#plotting the data\n",
    "#  shift train preditions for plotting \n"
   ]
  },
  {
   "cell_type": "code",
   "execution_count": null,
   "metadata": {},
   "outputs": [],
   "source": [
    "X_train, y_train, X_test, y_test, train_predict, test_predict"
   ]
  },
  {
   "cell_type": "code",
   "execution_count": 64,
   "metadata": {},
   "outputs": [],
   "source": [
    "df_plot_melt.dropna(inplace = True)"
   ]
  },
  {
   "cell_type": "code",
   "execution_count": 73,
   "metadata": {},
   "outputs": [
    {
     "data": {
      "text/plain": [
       "[1402.1468505859375,\n",
       " 1349.288330078125,\n",
       " 1231.611083984375,\n",
       " 1078.197998046875,\n",
       " 1428.344970703125,\n",
       " 1444.0101318359375,\n",
       " 1321.91162109375,\n",
       " 1273.58935546875,\n",
       " 1256.4530029296875,\n",
       " 1218.745361328125,\n",
       " 1176.6083984375,\n",
       " 1191.3409423828125,\n",
       " 1124.2674560546875,\n",
       " 1034.3663330078125,\n",
       " nan,\n",
       " nan,\n",
       " nan,\n",
       " nan,\n",
       " nan,\n",
       " 1036.575439453125,\n",
       " 1064.711669921875,\n",
       " 1087.0323486328125,\n",
       " 1165.7701416015625,\n",
       " 1191.553466796875,\n",
       " 1174.91455078125,\n",
       " 1161.3819580078125,\n",
       " 1068.5264892578125,\n",
       " 1029.0592041015625,\n",
       " 1029.77001953125,\n",
       " 1116.594970703125,\n",
       " 1164.8292236328125,\n",
       " 1043.9013671875,\n",
       " 1043.56689453125,\n",
       " 1014.27294921875,\n",
       " 956.5798950195312,\n",
       " 934.4541625976562,\n",
       " 932.4462890625,\n",
       " 919.01220703125,\n",
       " 972.833251953125,\n",
       " 923.3145751953125,\n",
       " 823.8305053710938,\n",
       " 844.879150390625,\n",
       " 817.346923828125,\n",
       " 806.55908203125,\n",
       " 793.1388549804688,\n",
       " 759.2826538085938,\n",
       " 786.0059204101562,\n",
       " 769.7057495117188,\n",
       " 773.88427734375,\n",
       " 735.528564453125,\n",
       " 693.1550903320312,\n",
       " 718.20947265625,\n",
       " 708.4828491210938,\n",
       " 741.03271484375,\n",
       " 707.9149780273438,\n",
       " 740.215087890625,\n",
       " 757.4896240234375,\n",
       " 754.479248046875,\n",
       " nan,\n",
       " nan,\n",
       " nan,\n",
       " nan,\n",
       " nan,\n",
       " 1442.72,\n",
       " 1383.94,\n",
       " 1266.61,\n",
       " 1072.32,\n",
       " 1485.11,\n",
       " 1486.65,\n",
       " 1348.84,\n",
       " 1295.34,\n",
       " 1265.13,\n",
       " 1225.09,\n",
       " 1192.85,\n",
       " 1209.01,\n",
       " 1121.58,\n",
       " 1042.22,\n",
       " 1174.1,\n",
       " 1203.84,\n",
       " 1175.76,\n",
       " 1095.06,\n",
       " 1070.33,\n",
       " 1051.75,\n",
       " 1066.15,\n",
       " 1110.08,\n",
       " 1172.53,\n",
       " 1206.49,\n",
       " 1186.96,\n",
       " 1169.84,\n",
       " 1069.73,\n",
       " 1019.98,\n",
       " 1053.21,\n",
       " 1143.75,\n",
       " 1175.84,\n",
       " 1049.37,\n",
       " 1047.41,\n",
       " 1017.11,\n",
       " 953.27,\n",
       " 937.34,\n",
       " 927.96,\n",
       " 918.59,\n",
       " 983.41,\n",
       " 928.78,\n",
       " 823.35,\n",
       " 845.62,\n",
       " 819.24,\n",
       " 807.88,\n",
       " 797.07,\n",
       " 758.49,\n",
       " 795.26,\n",
       " 771.41,\n",
       " 772.15,\n",
       " 739.77,\n",
       " 675.22,\n",
       " 724.12,\n",
       " 691.02,\n",
       " 744.95,\n",
       " 718.85,\n",
       " 764.65,\n",
       " 741.84,\n",
       " 752.54,\n",
       " 728.11,\n",
       " 642.36,\n",
       " 612.72,\n",
       " 660.78,\n",
       " 561.1]"
      ]
     },
     "execution_count": 73,
     "metadata": {},
     "output_type": "execute_result"
    }
   ],
   "source": []
  },
  {
   "cell_type": "code",
   "execution_count": 75,
   "metadata": {},
   "outputs": [
    {
     "data": {
      "text/plain": [
       "<matplotlib.axes._subplots.AxesSubplot at 0x235882b5ec8>"
      ]
     },
     "execution_count": 75,
     "metadata": {},
     "output_type": "execute_result"
    },
    {
     "data": {
      "image/png": "[encoded data removed]",
      "text/plain": [
       "<Figure size 432x288 with 1 Axes>"
      ]
     },
     "metadata": {
      "needs_background": "light"
     },
     "output_type": "display_data"
    }
   ],
   "source": [
    "df_plot = pd.DataFrame({\"date\" : df[\"date\"], \"closing_value\" : df[\"close\"]})\n",
    "predict_data = np.array([None] * 101 + train_predict + [None] * 101 + test_predict)\n",
    "predict_data = np.array(predict_data, dtype = float)\n",
    "predict_data = np.ma.masked_where(predict_data == None, predict_data)\n",
    "df_plot[\"predict_data\"] = predict_data\n",
    "df_plot_melt = pd.melt(df_plot, id_vars = [\"date\"], \n",
    "                       value_vars = [\"closing_value\", \"predict_data\"])\n",
    "# df_plot_melt.dropna(inplace = True) \n",
    "sns.lineplot(x = \"date\", y = \"value\", \n",
    "             hue = \"variable\",palette=\"ch:2.5,.25\",\n",
    "             data = df_plot_melt.dropna())"
   ]
  },
  {
   "cell_type": "code",
   "execution_count": 53,
   "metadata": {},
   "outputs": [
    {
     "data": {
      "text/html": [
       "<div>\n",
       "<style scoped>\n",
       "    .dataframe tbody tr th:only-of-type {\n",
       "        vertical-align: middle;\n",
       "    }\n",
       "\n",
       "    .dataframe tbody tr th {\n",
       "        vertical-align: top;\n",
       "    }\n",
       "\n",
       "    .dataframe thead th {\n",
       "        text-align: right;\n",
       "    }\n",
       "</style>\n",
       "<table border=\"1\" class=\"dataframe\">\n",
       "  <thead>\n",
       "    <tr style=\"text-align: right;\">\n",
       "      <th></th>\n",
       "      <th>date</th>\n",
       "      <th>variable</th>\n",
       "      <th>value</th>\n",
       "    </tr>\n",
       "  </thead>\n",
       "  <tbody>\n",
       "    <tr>\n",
       "      <th>0</th>\n",
       "      <td>2015-06-24 00:00:00+00:00</td>\n",
       "      <td>closing_value</td>\n",
       "      <td>537.840000</td>\n",
       "    </tr>\n",
       "    <tr>\n",
       "      <th>1</th>\n",
       "      <td>2015-06-25 00:00:00+00:00</td>\n",
       "      <td>closing_value</td>\n",
       "      <td>535.230000</td>\n",
       "    </tr>\n",
       "    <tr>\n",
       "      <th>2</th>\n",
       "      <td>2015-06-26 00:00:00+00:00</td>\n",
       "      <td>closing_value</td>\n",
       "      <td>531.690000</td>\n",
       "    </tr>\n",
       "    <tr>\n",
       "      <th>3</th>\n",
       "      <td>2015-06-29 00:00:00+00:00</td>\n",
       "      <td>closing_value</td>\n",
       "      <td>521.520000</td>\n",
       "    </tr>\n",
       "    <tr>\n",
       "      <th>4</th>\n",
       "      <td>2015-06-30 00:00:00+00:00</td>\n",
       "      <td>closing_value</td>\n",
       "      <td>520.510000</td>\n",
       "    </tr>\n",
       "    <tr>\n",
       "      <th>...</th>\n",
       "      <td>...</td>\n",
       "      <td>...</td>\n",
       "      <td>...</td>\n",
       "    </tr>\n",
       "    <tr>\n",
       "      <th>2509</th>\n",
       "      <td>2020-06-15 00:00:00+00:00</td>\n",
       "      <td>predict_data</td>\n",
       "      <td>1415.101440</td>\n",
       "    </tr>\n",
       "    <tr>\n",
       "      <th>2510</th>\n",
       "      <td>2020-06-16 00:00:00+00:00</td>\n",
       "      <td>predict_data</td>\n",
       "      <td>1393.346802</td>\n",
       "    </tr>\n",
       "    <tr>\n",
       "      <th>2511</th>\n",
       "      <td>2020-06-17 00:00:00+00:00</td>\n",
       "      <td>predict_data</td>\n",
       "      <td>1378.037964</td>\n",
       "    </tr>\n",
       "    <tr>\n",
       "      <th>2512</th>\n",
       "      <td>2020-06-18 00:00:00+00:00</td>\n",
       "      <td>predict_data</td>\n",
       "      <td>1382.894287</td>\n",
       "    </tr>\n",
       "    <tr>\n",
       "      <th>2513</th>\n",
       "      <td>2020-06-19 00:00:00+00:00</td>\n",
       "      <td>predict_data</td>\n",
       "      <td>1402.146851</td>\n",
       "    </tr>\n",
       "  </tbody>\n",
       "</table>\n",
       "<p>2514 rows × 3 columns</p>\n",
       "</div>"
      ],
      "text/plain": [
       "                          date       variable        value\n",
       "0    2015-06-24 00:00:00+00:00  closing_value   537.840000\n",
       "1    2015-06-25 00:00:00+00:00  closing_value   535.230000\n",
       "2    2015-06-26 00:00:00+00:00  closing_value   531.690000\n",
       "3    2015-06-29 00:00:00+00:00  closing_value   521.520000\n",
       "4    2015-06-30 00:00:00+00:00  closing_value   520.510000\n",
       "...                        ...            ...          ...\n",
       "2509 2020-06-15 00:00:00+00:00   predict_data  1415.101440\n",
       "2510 2020-06-16 00:00:00+00:00   predict_data  1393.346802\n",
       "2511 2020-06-17 00:00:00+00:00   predict_data  1378.037964\n",
       "2512 2020-06-18 00:00:00+00:00   predict_data  1382.894287\n",
       "2513 2020-06-19 00:00:00+00:00   predict_data  1402.146851\n",
       "\n",
       "[2514 rows x 3 columns]"
      ]
     },
     "execution_count": 53,
     "metadata": {},
     "output_type": "execute_result"
    }
   ],
   "source": [
    "df_plot_melt"
   ]
  },
  {
   "cell_type": "code",
   "execution_count": 151,
   "metadata": {},
   "outputs": [
    {
     "data": {
      "text/html": [
       "<div>\n",
       "<style scoped>\n",
       "    .dataframe tbody tr th:only-of-type {\n",
       "        vertical-align: middle;\n",
       "    }\n",
       "\n",
       "    .dataframe tbody tr th {\n",
       "        vertical-align: top;\n",
       "    }\n",
       "\n",
       "    .dataframe thead th {\n",
       "        text-align: right;\n",
       "    }\n",
       "</style>\n",
       "<table border=\"1\" class=\"dataframe\">\n",
       "  <thead>\n",
       "    <tr style=\"text-align: right;\">\n",
       "      <th></th>\n",
       "      <th>date</th>\n",
       "      <th>closing_value</th>\n",
       "      <th>predict_data</th>\n",
       "    </tr>\n",
       "  </thead>\n",
       "  <tbody>\n",
       "    <tr>\n",
       "      <th>101</th>\n",
       "      <td>2015-11-16 00:00:00+00:00</td>\n",
       "      <td>728.96</td>\n",
       "      <td>733.103</td>\n",
       "    </tr>\n",
       "    <tr>\n",
       "      <th>102</th>\n",
       "      <td>2015-11-17 00:00:00+00:00</td>\n",
       "      <td>725.30</td>\n",
       "      <td>732.914</td>\n",
       "    </tr>\n",
       "    <tr>\n",
       "      <th>103</th>\n",
       "      <td>2015-11-18 00:00:00+00:00</td>\n",
       "      <td>740.00</td>\n",
       "      <td>732.639</td>\n",
       "    </tr>\n",
       "    <tr>\n",
       "      <th>104</th>\n",
       "      <td>2015-11-19 00:00:00+00:00</td>\n",
       "      <td>738.41</td>\n",
       "      <td>732.329</td>\n",
       "    </tr>\n",
       "    <tr>\n",
       "      <th>105</th>\n",
       "      <td>2015-11-20 00:00:00+00:00</td>\n",
       "      <td>756.60</td>\n",
       "      <td>733.569</td>\n",
       "    </tr>\n",
       "    <tr>\n",
       "      <th>...</th>\n",
       "      <td>...</td>\n",
       "      <td>...</td>\n",
       "      <td>...</td>\n",
       "    </tr>\n",
       "    <tr>\n",
       "      <th>1252</th>\n",
       "      <td>2020-06-15 00:00:00+00:00</td>\n",
       "      <td>1419.85</td>\n",
       "      <td>1439.99</td>\n",
       "    </tr>\n",
       "    <tr>\n",
       "      <th>1253</th>\n",
       "      <td>2020-06-16 00:00:00+00:00</td>\n",
       "      <td>1442.72</td>\n",
       "      <td>1422.31</td>\n",
       "    </tr>\n",
       "    <tr>\n",
       "      <th>1254</th>\n",
       "      <td>2020-06-17 00:00:00+00:00</td>\n",
       "      <td>1451.12</td>\n",
       "      <td>1412.15</td>\n",
       "    </tr>\n",
       "    <tr>\n",
       "      <th>1255</th>\n",
       "      <td>2020-06-18 00:00:00+00:00</td>\n",
       "      <td>1435.96</td>\n",
       "      <td>1417.83</td>\n",
       "    </tr>\n",
       "    <tr>\n",
       "      <th>1256</th>\n",
       "      <td>2020-06-19 00:00:00+00:00</td>\n",
       "      <td>1431.72</td>\n",
       "      <td>1432.54</td>\n",
       "    </tr>\n",
       "  </tbody>\n",
       "</table>\n",
       "<p>1055 rows × 3 columns</p>\n",
       "</div>"
      ],
      "text/plain": [
       "                          date  closing_value predict_data\n",
       "101  2015-11-16 00:00:00+00:00         728.96      733.103\n",
       "102  2015-11-17 00:00:00+00:00         725.30      732.914\n",
       "103  2015-11-18 00:00:00+00:00         740.00      732.639\n",
       "104  2015-11-19 00:00:00+00:00         738.41      732.329\n",
       "105  2015-11-20 00:00:00+00:00         756.60      733.569\n",
       "...                        ...            ...          ...\n",
       "1252 2020-06-15 00:00:00+00:00        1419.85      1439.99\n",
       "1253 2020-06-16 00:00:00+00:00        1442.72      1422.31\n",
       "1254 2020-06-17 00:00:00+00:00        1451.12      1412.15\n",
       "1255 2020-06-18 00:00:00+00:00        1435.96      1417.83\n",
       "1256 2020-06-19 00:00:00+00:00        1431.72      1432.54\n",
       "\n",
       "[1055 rows x 3 columns]"
      ]
     },
     "execution_count": 151,
     "metadata": {},
     "output_type": "execute_result"
    }
   ],
   "source": [
    "df_plot"
   ]
  },
  {
   "cell_type": "code",
   "execution_count": 153,
   "metadata": {},
   "outputs": [
    {
     "ename": "NameError",
     "evalue": "name 'python' is not defined",
     "output_type": "error",
     "traceback": [
      "\u001b[1;31m---------------------------------------------------------------------------\u001b[0m",
      "\u001b[1;31mNameError\u001b[0m                                 Traceback (most recent call last)",
      "\u001b[1;32m<ipython-input-153-45a3ce2a2cc7>\u001b[0m in \u001b[0;36m<module>\u001b[1;34m\u001b[0m\n\u001b[1;32m----> 1\u001b[1;33m \u001b[0mpython\u001b[0m\u001b[1;33m.\u001b[0m\u001b[0m__version__\u001b[0m\u001b[1;33m\u001b[0m\u001b[1;33m\u001b[0m\u001b[0m\n\u001b[0m",
      "\u001b[1;31mNameError\u001b[0m: name 'python' is not defined"
     ]
    }
   ],
   "source": []
  },
  {
   "cell_type": "code",
   "execution_count": null,
   "metadata": {},
   "outputs": [],
   "source": []
  }
 ],
 "metadata": {
  "kernelspec": {
   "display_name": "Python 3",
   "language": "python",
   "name": "python3"
  }
 },
 "nbformat": 4,
 "nbformat_minor": 2
}
