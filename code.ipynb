{
 "cells": [
  {
   "cell_type": "code",
   "execution_count": 21,
   "metadata": {},
   "outputs": [],
   "source": [
    "## data coollection\n",
    "import pandas_datareader as pdr\n",
    "import pandas_datareader.data as web\n",
    "import os \n",
    "import pandas as pd\n",
    "\n"
   ]
  },
  {
   "cell_type": "code",
   "execution_count": 11,
   "metadata": {},
   "outputs": [],
   "source": [
    "key = \"9c61dd5e6a29f5480b574391a70e26101906fbea\""
   ]
  },
  {
   "cell_type": "code",
   "execution_count": 27,
   "metadata": {},
   "outputs": [],
   "source": [
    "## tiingo is tracing platform that provides a data api with historical end of the day prices on equities, mutual_funds  and etfs\n",
    "df = pdr.get_data_tiingo(\"GOOG\", api_key = key)\n"
   ]
  },
  {
   "cell_type": "code",
   "execution_count": 28,
   "metadata": {},
   "outputs": [
    {
     "output_type": "execute_result",
     "data": {
      "text/plain": "Index(['close', 'high', 'low', 'open', 'volume', 'adjClose', 'adjHigh',\n       'adjLow', 'adjOpen', 'adjVolume', 'divCash', 'splitFactor'],\n      dtype='object')"
     },
     "metadata": {},
     "execution_count": 28
    }
   ],
   "source": [
    "\n",
    "df.columns"
   ]
  },
  {
   "cell_type": "code",
   "execution_count": 39,
   "metadata": {},
   "outputs": [
    {
     "output_type": "execute_result",
     "data": {
      "text/plain": "                                    close      high      low     open  \\\nsymbol date                                                             \nGOOG   2015-06-23 00:00:00+00:00   540.48   541.499   535.25   539.64   \n       2015-06-24 00:00:00+00:00   537.84   540.000   535.66   540.00   \n       2015-06-25 00:00:00+00:00   535.23   540.900   535.23   538.87   \n       2015-06-26 00:00:00+00:00   531.69   537.760   531.35   537.26   \n       2015-06-29 00:00:00+00:00   521.52   528.610   520.54   525.01   \n...                                   ...       ...      ...      ...   \n       2020-06-15 00:00:00+00:00  1419.85  1424.800  1387.92  1390.80   \n       2020-06-16 00:00:00+00:00  1442.72  1455.020  1425.90  1445.22   \n       2020-06-17 00:00:00+00:00  1451.12  1460.000  1431.38  1447.16   \n       2020-06-18 00:00:00+00:00  1435.96  1451.410  1427.01  1449.16   \n       2020-06-19 00:00:00+00:00  1431.72  1447.800  1421.35  1444.00   \n\n                                   volume  adjClose   adjHigh   adjLow  \\\nsymbol date                                                              \nGOOG   2015-06-23 00:00:00+00:00  1197450    540.48   541.499   535.25   \n       2015-06-24 00:00:00+00:00  1286608    537.84   540.000   535.66   \n       2015-06-25 00:00:00+00:00  1335697    535.23   540.900   535.23   \n       2015-06-26 00:00:00+00:00  2109130    531.69   537.760   531.35   \n       2015-06-29 00:00:00+00:00  1937821    521.52   528.610   520.54   \n...                                   ...       ...       ...      ...   \n       2020-06-15 00:00:00+00:00  1506096   1419.85  1424.800  1387.92   \n       2020-06-16 00:00:00+00:00  1711614   1442.72  1455.020  1425.90   \n       2020-06-17 00:00:00+00:00  1549615   1451.12  1460.000  1431.38   \n       2020-06-18 00:00:00+00:00  1581916   1435.96  1451.410  1427.01   \n       2020-06-19 00:00:00+00:00  3157875   1431.72  1447.800  1421.35   \n\n                                  adjOpen  adjVolume  divCash  splitFactor  \nsymbol date                                                                 \nGOOG   2015-06-23 00:00:00+00:00   539.64    1197450      0.0          1.0  \n       2015-06-24 00:00:00+00:00   540.00    1286608      0.0          1.0  \n       2015-06-25 00:00:00+00:00   538.87    1335697      0.0          1.0  \n       2015-06-26 00:00:00+00:00   537.26    2109130      0.0          1.0  \n       2015-06-29 00:00:00+00:00   525.01    1937821      0.0          1.0  \n...                                   ...        ...      ...          ...  \n       2020-06-15 00:00:00+00:00  1390.80    1506096      0.0          1.0  \n       2020-06-16 00:00:00+00:00  1445.22    1711614      0.0          1.0  \n       2020-06-17 00:00:00+00:00  1447.16    1549615      0.0          1.0  \n       2020-06-18 00:00:00+00:00  1449.16    1581916      0.0          1.0  \n       2020-06-19 00:00:00+00:00  1444.00    3157875      0.0          1.0  \n\n[1258 rows x 12 columns]",
      "text/html": "<div>\n<style scoped>\n    .dataframe tbody tr th:only-of-type {\n        vertical-align: middle;\n    }\n\n    .dataframe tbody tr th {\n        vertical-align: top;\n    }\n\n    .dataframe thead th {\n        text-align: right;\n    }\n</style>\n<table border=\"1\" class=\"dataframe\">\n  <thead>\n    <tr style=\"text-align: right;\">\n      <th></th>\n      <th></th>\n      <th>close</th>\n      <th>high</th>\n      <th>low</th>\n      <th>open</th>\n      <th>volume</th>\n      <th>adjClose</th>\n      <th>adjHigh</th>\n      <th>adjLow</th>\n      <th>adjOpen</th>\n      <th>adjVolume</th>\n      <th>divCash</th>\n      <th>splitFactor</th>\n    </tr>\n    <tr>\n      <th>symbol</th>\n      <th>date</th>\n      <th></th>\n      <th></th>\n      <th></th>\n      <th></th>\n      <th></th>\n      <th></th>\n      <th></th>\n      <th></th>\n      <th></th>\n      <th></th>\n      <th></th>\n      <th></th>\n    </tr>\n  </thead>\n  <tbody>\n    <tr>\n      <th rowspan=\"11\" valign=\"top\">GOOG</th>\n      <th>2015-06-23 00:00:00+00:00</th>\n      <td>540.48</td>\n      <td>541.499</td>\n      <td>535.25</td>\n      <td>539.64</td>\n      <td>1197450</td>\n      <td>540.48</td>\n      <td>541.499</td>\n      <td>535.25</td>\n      <td>539.64</td>\n      <td>1197450</td>\n      <td>0.0</td>\n      <td>1.0</td>\n    </tr>\n    <tr>\n      <th>2015-06-24 00:00:00+00:00</th>\n      <td>537.84</td>\n      <td>540.000</td>\n      <td>535.66</td>\n      <td>540.00</td>\n      <td>1286608</td>\n      <td>537.84</td>\n      <td>540.000</td>\n      <td>535.66</td>\n      <td>540.00</td>\n      <td>1286608</td>\n      <td>0.0</td>\n      <td>1.0</td>\n    </tr>\n    <tr>\n      <th>2015-06-25 00:00:00+00:00</th>\n      <td>535.23</td>\n      <td>540.900</td>\n      <td>535.23</td>\n      <td>538.87</td>\n      <td>1335697</td>\n      <td>535.23</td>\n      <td>540.900</td>\n      <td>535.23</td>\n      <td>538.87</td>\n      <td>1335697</td>\n      <td>0.0</td>\n      <td>1.0</td>\n    </tr>\n    <tr>\n      <th>2015-06-26 00:00:00+00:00</th>\n      <td>531.69</td>\n      <td>537.760</td>\n      <td>531.35</td>\n      <td>537.26</td>\n      <td>2109130</td>\n      <td>531.69</td>\n      <td>537.760</td>\n      <td>531.35</td>\n      <td>537.26</td>\n      <td>2109130</td>\n      <td>0.0</td>\n      <td>1.0</td>\n    </tr>\n    <tr>\n      <th>2015-06-29 00:00:00+00:00</th>\n      <td>521.52</td>\n      <td>528.610</td>\n      <td>520.54</td>\n      <td>525.01</td>\n      <td>1937821</td>\n      <td>521.52</td>\n      <td>528.610</td>\n      <td>520.54</td>\n      <td>525.01</td>\n      <td>1937821</td>\n      <td>0.0</td>\n      <td>1.0</td>\n    </tr>\n    <tr>\n      <th>...</th>\n      <td>...</td>\n      <td>...</td>\n      <td>...</td>\n      <td>...</td>\n      <td>...</td>\n      <td>...</td>\n      <td>...</td>\n      <td>...</td>\n      <td>...</td>\n      <td>...</td>\n      <td>...</td>\n      <td>...</td>\n    </tr>\n    <tr>\n      <th>2020-06-15 00:00:00+00:00</th>\n      <td>1419.85</td>\n      <td>1424.800</td>\n      <td>1387.92</td>\n      <td>1390.80</td>\n      <td>1506096</td>\n      <td>1419.85</td>\n      <td>1424.800</td>\n      <td>1387.92</td>\n      <td>1390.80</td>\n      <td>1506096</td>\n      <td>0.0</td>\n      <td>1.0</td>\n    </tr>\n    <tr>\n      <th>2020-06-16 00:00:00+00:00</th>\n      <td>1442.72</td>\n      <td>1455.020</td>\n      <td>1425.90</td>\n      <td>1445.22</td>\n      <td>1711614</td>\n      <td>1442.72</td>\n      <td>1455.020</td>\n      <td>1425.90</td>\n      <td>1445.22</td>\n      <td>1711614</td>\n      <td>0.0</td>\n      <td>1.0</td>\n    </tr>\n    <tr>\n      <th>2020-06-17 00:00:00+00:00</th>\n      <td>1451.12</td>\n      <td>1460.000</td>\n      <td>1431.38</td>\n      <td>1447.16</td>\n      <td>1549615</td>\n      <td>1451.12</td>\n      <td>1460.000</td>\n      <td>1431.38</td>\n      <td>1447.16</td>\n      <td>1549615</td>\n      <td>0.0</td>\n      <td>1.0</td>\n    </tr>\n    <tr>\n      <th>2020-06-18 00:00:00+00:00</th>\n      <td>1435.96</td>\n      <td>1451.410</td>\n      <td>1427.01</td>\n      <td>1449.16</td>\n      <td>1581916</td>\n      <td>1435.96</td>\n      <td>1451.410</td>\n      <td>1427.01</td>\n      <td>1449.16</td>\n      <td>1581916</td>\n      <td>0.0</td>\n      <td>1.0</td>\n    </tr>\n    <tr>\n      <th>2020-06-19 00:00:00+00:00</th>\n      <td>1431.72</td>\n      <td>1447.800</td>\n      <td>1421.35</td>\n      <td>1444.00</td>\n      <td>3157875</td>\n      <td>1431.72</td>\n      <td>1447.800</td>\n      <td>1421.35</td>\n      <td>1444.00</td>\n      <td>3157875</td>\n      <td>0.0</td>\n      <td>1.0</td>\n    </tr>\n  </tbody>\n</table>\n<p>1258 rows × 12 columns</p>\n</div>"
     },
     "metadata": {},
     "execution_count": 39
    }
   ],
   "source": [
    "df"
   ]
  },
  {
   "cell_type": "code",
   "execution_count": 37,
   "metadata": {},
   "outputs": [],
   "source": [
    "df.to_csv(\"GOOG.csv\")"
   ]
  },
  {
   "cell_type": "code",
   "execution_count": 38,
   "metadata": {},
   "outputs": [],
   "source": []
  },
  {
   "cell_type": "code",
   "execution_count": null,
   "metadata": {},
   "outputs": [],
   "source": []
  }
 ],
 "metadata": {
  "language_info": {
   "codemirror_mode": {
    "name": "ipython",
    "version": 3
   },
   "file_extension": ".py",
   "mimetype": "text/x-python",
   "name": "python",
   "nbconvert_exporter": "python",
   "pygments_lexer": "ipython3",
   "version": "3.8.3-final"
  },
  "orig_nbformat": 2,
  "kernelspec": {
   "name": "python3",
   "display_name": "Python 3"
  }
 },
 "nbformat": 4,
 "nbformat_minor": 2
}